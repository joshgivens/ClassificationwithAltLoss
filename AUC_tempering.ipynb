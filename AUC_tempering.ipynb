{
 "cells": [
  {
   "cell_type": "markdown",
   "metadata": {},
   "source": [
    "### Tempering SMC for AUC problem - Variant 1 dataset"
   ]
  },
  {
   "cell_type": "markdown",
   "metadata": {},
   "source": [
    "We adapt and apply the tempering SMC algorithm by Ridgway et al 2016 to Variant 1 dataset.\n",
    "\n",
    "\n",
    "Some comments\n",
    "\n",
    "- We try two different scheduling: log-scheduling and bisection search. Both seem to give an AUC of 85% / 86% when the other parameters are fixed. My guess is that bisection search can be further improved by tuning.\n",
    "\n",
    "- With T = 1000 iterations, N = 50 particles and minibatches of size 1000, the AUC is about 86% and the running time of SMC algorithm is around 1min and 30sec on my PC. Note that I use numba package to speed things up.\n",
    "\n",
    "- With T = 500 iterations, N = 50 particles and minibatches of size 200, the AUC is about 84% and the running time of SMC algorithm is about 35seconds on my PC. Note that I use numba package to speed things up.\n",
    "\n",
    "- Note that one could parallelise the algorithm (e.g. generation of particles) and significantly improve the performance.\n",
    "\n",
    "- We may also get a significantly higher AUC if we spend time tunign stuff! Gamma sequence is completely arbitrary, there may exists better choices. Surely, the one from Ridgway et al would work better, but it is hard to code. Similarly for kappa sequence in the markov kernels: for instance, we could decrease it according to some smart criterion, or may also use covariance matrix of particles - but this has to be estimated and we would need a lot of particles and I think it is not worth it. \n",
    "\n",
    "- In the algorithm, we minimise a AUC risk (i.e. how many samples we misrank) instead of optimising the standard AUC (i.e. how many we rank right). BUt should definitely be equivalent.\n",
    "\n"
   ]
  },
  {
   "cell_type": "markdown",
   "metadata": {},
   "source": [
    "#### Loading dataset, formatting etc"
   ]
  },
  {
   "cell_type": "code",
   "execution_count": 2,
   "metadata": {},
   "outputs": [],
   "source": [
    "# Song Liu (song.liu@bristol.ac.uk), 01-06-2023\n",
    "# All rights reserved.\n",
    "\n",
    "# load csv files from archive folder\n",
    "import matplotlib.pyplot as plt\n",
    "from numpy import  *\n",
    "import pandas as pd\n",
    "\n",
    "#base = pd.read_csv('archive/Variant I.csv') #use this in general\n",
    "base = pd.read_csv('Variant I.csv')\n",
    "# remove 'income', 'customer_age', 'employment_status' columns as they are protected\n",
    "base = base.drop(columns=['income', 'customer_age', 'employment_status'])\n",
    "# convert categorical variables in 'payment_type' to integers\n",
    "base['payment_type'] = base['payment_type'].astype('category')\n",
    "base['housing_status'] = base['housing_status'].astype('category')\n",
    "base['source'] = base['source'].astype('category')\n",
    "base['device_os'] = base['device_os'].astype('category')\n",
    "\n",
    "cat_columns = base.select_dtypes(['category']).columns\n",
    "base[cat_columns] = base[cat_columns].apply(lambda x: x.cat.codes)\n",
    "\n",
    "# Ben's formatting\n",
    "\n",
    "missing_value = -10 # missing values are replaced by this!\n",
    "\n",
    "def mean_std_scale(x): return (x - x.mean())/x.std()\n",
    "\n",
    "df = pd.DataFrame(index=range(len(base)), columns=[])\n",
    "df['fraud_bool'] = base['fraud_bool'].copy().astype(float)\n",
    "df['name_email_similarity'] = base['name_email_similarity'].copy()\n",
    "\n",
    "## scale\n",
    "prev = base['prev_address_months_count'].copy().astype(float)\n",
    "prev[prev > 0] = (prev[prev > 0] / prev.max()).copy()\n",
    "prev[prev < 0] = missing_value\n",
    "df['prev_address_months_count'] = prev.copy()\n",
    "\n",
    "prev = base['current_address_months_count'].copy().astype(float)\n",
    "prev[prev > 0] = (prev[prev > 0] / prev.max()).copy()\n",
    "prev[prev < 0] = missing_value\n",
    "df['current_address_months_count'] = prev.copy()\n",
    "\n",
    "df['days_since_request'] = mean_std_scale(base['days_since_request']).copy()\n",
    "df['intended_balcon_amount'] = mean_std_scale(base['intended_balcon_amount']).copy()\n",
    "\n",
    "pt = pd.get_dummies(base, columns=['payment_type'])\n",
    "for i in range(5): df[f'payment_type_{i}'] = pt[f'payment_type_{i}'].astype(float)\n",
    "\n",
    "\n",
    "df['zip_count_4w'] = mean_std_scale(base['zip_count_4w'].copy().astype(float))\n",
    "\n",
    "## not sure these should be mean/std scaled tbh... maybe min/max scaling would be better\n",
    "## https://www.dropbox.com/scl/fo/vg4b2hyapa9o9ajanbfl3/AL1RUfD1rAb5RBvgFQwc8eI/bank-account-fraud/documents?dl=0&preview=datasheet.pdf&rlkey=2r99po055q5pjbg1934ga0c8i&subfolder_nav_tracking=1\n",
    "for col in ['velocity_6h', 'velocity_24h', 'velocity_4w',\n",
    "            'bank_branch_count_8w', 'date_of_birth_distinct_emails_4w',\n",
    "            'credit_risk_score']:\n",
    "    df[col] = mean_std_scale(base[col]).copy()\n",
    "\n",
    "df['email_is_free'] = base['email_is_free'].copy().astype(float)\n",
    "\n",
    "\n",
    "pt = pd.get_dummies(base, columns=['housing_status'])\n",
    "for i in range(7): df[f'housing_status_{i}'] = pt[f'housing_status_{i}'].astype(float)\n",
    "\n",
    "df['phone_home_valid'] = base['phone_home_valid'].copy().astype(float)\n",
    "df['phone_mobile_valid'] = base['phone_mobile_valid'].copy().astype(float)\n",
    "\n",
    "\n",
    "prev = base['bank_months_count'].copy().astype(float)\n",
    "prev[prev > 0] = (prev[prev > 0] / prev.max()).copy()\n",
    "prev[prev < 0] = missing_value\n",
    "df['bank_months_count'] = prev.copy()\n",
    "\n",
    "df['has_other_cards'] = base['has_other_cards'].copy().astype(float)\n",
    "df['foreign_request'] = base['foreign_request'].copy().astype(float)\n",
    "\n",
    "\n",
    "## not sure these should be mean/std scaled tbh... maybe min/max scaling would be better\n",
    "## https://www.dropbox.com/scl/fo/vg4b2hyapa9o9ajanbfl3/AL1RUfD1rAb5RBvgFQwc8eI/bank-account-fraud/documents?dl=0&preview=datasheet.pdf&rlkey=2r99po055q5pjbg1934ga0c8i&subfolder_nav_tracking=1\n",
    "for col in ['proposed_credit_limit']:\n",
    "    df[col] = mean_std_scale(base[col]).copy()\n",
    "\n",
    "\n",
    "df['source'] = base['source'].copy().astype(float)\n",
    "\n",
    "prev = base['session_length_in_minutes'].copy().astype(float)\n",
    "prev[prev > 0] = (prev[prev > 0] / prev.max()).copy()\n",
    "prev[prev < 0] = missing_value\n",
    "df['session_length_in_minutes'] = prev.copy()\n",
    "\n",
    "\n",
    "pt = pd.get_dummies(base, columns=['device_os'])\n",
    "for i in range(5): df[f'device_os_{i}'] = pt[f'device_os_{i}'].astype(float)\n",
    "\n",
    "df['keep_alive_session'] = base['keep_alive_session'].copy().astype(float)\n",
    "\n",
    "prev = base['device_distinct_emails_8w'].copy().astype(float)\n",
    "prev[prev > 0] = (prev[prev > 0] / prev.max()).copy()\n",
    "prev[prev < 0] = missing_value\n",
    "df['device_distinct_emails_8w'] = prev.copy()\n",
    "\n",
    "df['device_fraud_count'] = base['device_fraud_count'].copy().astype(float)\n",
    "\n",
    "pt = pd.get_dummies(base, columns=['month'])\n",
    "for i in range(8): df[f'month_{i}'] = pt[f'month_{i}'].astype(float)\n",
    "\n",
    "# base = base.to_numpy()"
   ]
  },
  {
   "cell_type": "markdown",
   "metadata": {},
   "source": [
    "## SMC tempering with log-scheduling"
   ]
  },
  {
   "cell_type": "code",
   "execution_count": 3,
   "metadata": {},
   "outputs": [
    {
     "name": "stderr",
     "output_type": "stream",
     "text": [
      "/tmp/ipykernel_36691/2138480801.py:109: RuntimeWarning: invalid value encountered in true_divide\n",
      "  weights = weights / np.sum(weights)\n",
      "/tmp/ipykernel_36691/2138480801.py:109: RuntimeWarning: invalid value encountered in true_divide\n",
      "  weights = weights / np.sum(weights)\n"
     ]
    }
   ],
   "source": [
    "import numpy as np\n",
    "import pandas as pd\n",
    "import scipy.stats as stats\n",
    "import matplotlib.pyplot as plt\n",
    "from sklearn.datasets import load_diabetes\n",
    "from sklearn.preprocessing import StandardScaler\n",
    "from sklearn.model_selection import StratifiedKFold, train_test_split\n",
    "from numba import jit\n",
    "from sklearn.metrics import roc_auc_score\n",
    "\n",
    "X = df.drop(df.filter(like='fraud_bool',axis=1).columns.to_list(), axis=1)\n",
    "y = df[\"fraud_bool\"]\n",
    "y = np.where(y > np.median(y), 1, -1)\n",
    "\n",
    "# standardise\n",
    "scaler = StandardScaler()\n",
    "X = scaler.fit_transform(X)\n",
    "\n",
    "# train test split\n",
    "X_train, X_test, y_train, y_test = train_test_split(X, y, test_size=0.2, stratify=y, random_state=20)\n",
    "\n",
    "def create_minibatches(X, y, batch_size):\n",
    "    skf = StratifiedKFold(n_splits=len(X) // batch_size)\n",
    "    minibatches = []\n",
    "    for _, test_index in skf.split(X, y):\n",
    "        X_batch, y_batch = X[test_index], y[test_index]\n",
    "        minibatches.append((X_batch, y_batch))\n",
    "    return minibatches\n",
    "\n",
    "\n",
    "batch_size = 1000  # batch size\n",
    "minibatches = create_minibatches(X_train, y_train, batch_size)\n",
    "\n",
    "# prior distribution\n",
    "def prior_distribution(theta):\n",
    "    return stats.norm.pdf(theta, 0, 100).prod()\n",
    "\n",
    "# AUC objective function\n",
    "@jit(nopython=True, fastmath=True)\n",
    "def auc_risk(theta, X, Y):\n",
    "    score = np.dot(X, theta)\n",
    "    positive_scores = score[Y == 1]\n",
    "    negative_scores = score[Y == -1]\n",
    "\n",
    "    misranked_pairs = 0\n",
    "    for i in range(len(positive_scores)):\n",
    "        for j in range(len(negative_scores)):\n",
    "            if positive_scores[i] < negative_scores[j]:\n",
    "                misranked_pairs += 1\n",
    "\n",
    "    return misranked_pairs / (len(positive_scores) * len(negative_scores))\n",
    "\n",
    "def posterior_distribution(theta, gamma, X, Y):\n",
    "    return prior_distribution(theta) * np.exp(-gamma * auc_risk(theta, X, Y))\n",
    "\n",
    "# Importance weights - -100 * can be seen as annealing constant\n",
    "def importance_weights(particles, gamma_prev, gamma_current, X, Y, importance_annealing):\n",
    "    return np.exp(-importance_annealing * (gamma_current - gamma_prev) * np.array([auc_risk(particle, X, Y) for particle in particles]))\n",
    "\n",
    "# systematic resampling. Can also use simple resampling, but it does not seem to work that well\n",
    "@jit(nopython=True, fastmath=True)\n",
    "def resample(particles, weights):\n",
    "    N = len(particles)\n",
    "    positions = (np.arange(N) + np.random.random()) / N\n",
    "    indices = np.zeros(N, 'i')\n",
    "    cumulative_sum = np.cumsum(weights)\n",
    "    i, j = 0, 0\n",
    "    while i < N:\n",
    "        if positions[i] < cumulative_sum[j]:\n",
    "            indices[i] = j\n",
    "            i += 1\n",
    "        else:\n",
    "            j += 1\n",
    "    return particles[indices]\n",
    "\n",
    "#def resample(particles, weights):\n",
    "#    indices = np.random.choice(len(particles), size=len(particles), p=weights/np.sum(weights))\n",
    "#    return particles[indices]\n",
    "\n",
    "#Logarithmic Schedule for gamma: not sure whether there are better choices !!! For sure, the one in Ridgway et al, but it is hard to code\n",
    "\n",
    "def logarithmic_schedule(T, gamma_initial, gamma_final):\n",
    "    return gamma_initial + (gamma_final - gamma_initial) * (np.log(np.arange(0, T + 2) + 1) / np.log(T + 2))\n",
    "\n",
    "\n",
    "#exponential schedule seems working much worse!\n",
    "#def exponential_schedule(T, gamma_initial, gamma_final):\n",
    "#    return gamma_initial * (gamma_final / gamma_initial) ** (np.arange(1, T + 3) / (T + 2))\n",
    "\n",
    "\n",
    "# SMC algorithm\n",
    "def smc_sampler(N, T, gammas, minibatches, kappas, importance_annealing):\n",
    "    particles = np.random.normal(loc = 0, scale  = 100, size = (N, minibatches[0][0].shape[1]))\n",
    "    weights = np.ones(N) / N\n",
    "    #auc_risks_min = []\n",
    "    #auc_risks_median = []\n",
    "    ess = []\n",
    "\n",
    "    for t in range(1, T + 1):\n",
    "        gamma_prev = gammas[t - 1]\n",
    "        gamma_current = gammas[t]\n",
    "        current_annealing = importance_annealing[t]\n",
    "        \n",
    "        # Shuffle minibatches \n",
    "        np.random.shuffle(minibatches)\n",
    "        X_batch, y_batch = minibatches[0]\n",
    "        \n",
    "        weights = importance_weights(particles, gamma_prev, gamma_current, X_batch, y_batch, current_annealing)\n",
    "        weights = weights / np.sum(weights)\n",
    "        ess.append(1 / (np.sum(weights ** 2)))\n",
    "        \n",
    "        # resample only if ESS drops below threshold\n",
    "        #if ess[-1] < 0.9 * N:\n",
    "        #    particles = resample(particles, weights)\n",
    "            \n",
    "        particles = resample(particles, weights)\n",
    "        \n",
    "        # Compute covariance of particles\n",
    "        for i in range(N):\n",
    "            proposed_particle = particles[i] + np.random.multivariate_normal(np.zeros(X_batch.shape[1]), kappas[t]* (X_batch.shape[1]+1) * np.diag(np.ones(X_batch.shape[1])))\n",
    "            acceptance_prob = min(1, posterior_distribution(proposed_particle, gamma_current, X_batch, y_batch) / posterior_distribution(particles[i], gamma_current, X_batch, y_batch))\n",
    "            if np.random.rand() < acceptance_prob:\n",
    "                particles[i] = proposed_particle\n",
    "        \n",
    "        #auc_min = np.min(np.array([auc_risk(particle, X_batch, y_batch) for particle in particles]))\n",
    "        #auc_risks_min.append(auc_min)\n",
    "        #auc_median = np.median(np.array([auc_risk(particle, X_batch, y_batch) for particle in particles]))\n",
    "        #auc_risks_median.append(auc_median)\n",
    "    \n",
    "    return particles, ess\n",
    "\n",
    "# define parameters for the SMC sampler\n",
    "T = 1000\n",
    "N = 50\n",
    "\n",
    "#importance_annealing = np.arange(100,100 + T+3)\n",
    "importance_annealing = np.repeat(100, T+3) \n",
    "#imprtance_annealing = importance_annealing[::-1]\n",
    "\n",
    "# log schedule\n",
    "gamma_initial = 0\n",
    "gamma_final = 800\n",
    "gammas = logarithmic_schedule(T, gamma_initial, gamma_final)\n",
    "\n",
    "\n",
    "kappas = 100 * np.arange(1, T + 3) ** (- 1. ) #this is very heuristic - simulations work better than with kappas \\equiv 1\n",
    "#kappas = np.repeat(1 , T + 3)\n",
    "\n",
    "\n",
    "# Train\n",
    "particles, ess = smc_sampler(N, T, gammas, minibatches, kappas, importance_annealing)\n"
   ]
  },
  {
   "cell_type": "markdown",
   "metadata": {},
   "source": [
    "### Evaluation on test set and plotting"
   ]
  },
  {
   "cell_type": "markdown",
   "metadata": {},
   "source": [
    "##### Boxplot of AUC values on test set for each of the final particles"
   ]
  },
  {
   "cell_type": "code",
   "execution_count": 4,
   "metadata": {},
   "outputs": [
    {
     "data": {
      "image/png": "[encoded data removed]",
      "text/plain": [
       "<Figure size 720x360 with 1 Axes>"
      ]
     },
     "metadata": {
      "needs_background": "light"
     },
     "output_type": "display_data"
    }
   ],
   "source": [
    "# Evaluate on the test set\n",
    "auc_scores_test = []\n",
    "for particle in particles:\n",
    "    score = np.dot(X_test, particle)\n",
    "    auc = roc_auc_score(y_test, score) # if we want \"real auc\" - i.e. no auc risk - evaluation \n",
    "    #auc = auc_risk(particle, X_test, y_test)\n",
    "    auc_scores_test.append(auc)\n",
    "\n",
    "# Create a boxplot for the AUC scores on the test set\n",
    "plt.figure(figsize=(10, 5))\n",
    "plt.boxplot(auc_scores_test, vert=True, patch_artist=True)\n",
    "plt.xlabel('Over final particles')\n",
    "plt.ylabel('AUC Score')\n",
    "plt.title('AUC value on test Set')\n",
    "plt.show()"
   ]
  },
  {
   "cell_type": "markdown",
   "metadata": {},
   "source": [
    "##### Effective Sample Size - this is just to check how SMC works"
   ]
  },
  {
   "cell_type": "code",
   "execution_count": 5,
   "metadata": {},
   "outputs": [
    {
     "data": {
      "image/png": "[encoded data removed]",
      "text/plain": [
       "<Figure size 720x360 with 1 Axes>"
      ]
     },
     "metadata": {
      "needs_background": "light"
     },
     "output_type": "display_data"
    }
   ],
   "source": [
    "# Analyze the Results\n",
    "plt.figure(figsize=(10, 5))\n",
    "\n",
    "plt.plot(range(1, T + 1), ess)\n",
    "plt.title('Effective Sample Size')\n",
    "plt.xlabel('Iteration')\n",
    "plt.ylabel('ess_value')\n",
    "plt.grid(True)"
   ]
  },
  {
   "cell_type": "markdown",
   "metadata": {},
   "source": [
    "ESS may sometimes be wiggling because we are using minibatches... this should not be a problem"
   ]
  },
  {
   "cell_type": "markdown",
   "metadata": {},
   "source": [
    "### SMC tempering with bisection search: scheduling s.t. ESS is fixed"
   ]
  },
  {
   "cell_type": "markdown",
   "metadata": {},
   "source": [
    "Perhaps this type of scheduling is more robust to different datasets."
   ]
  },
  {
   "cell_type": "code",
   "execution_count": 10,
   "metadata": {},
   "outputs": [],
   "source": [
    "import numpy as np\n",
    "import pandas as pd\n",
    "import scipy.stats as stats\n",
    "import matplotlib.pyplot as plt\n",
    "from sklearn.datasets import load_diabetes\n",
    "from sklearn.preprocessing import StandardScaler\n",
    "from sklearn.model_selection import StratifiedKFold, train_test_split\n",
    "from numba import jit\n",
    "from sklearn.metrics import roc_auc_score\n",
    "\n",
    "\n",
    "def create_minibatches(X, y, batch_size):\n",
    "    skf = StratifiedKFold(n_splits=len(X) // batch_size)\n",
    "    minibatches = []\n",
    "    for _, test_index in skf.split(X, y):\n",
    "        X_batch, y_batch = X[test_index], y[test_index]\n",
    "        minibatches.append((X_batch, y_batch))\n",
    "    return minibatches\n",
    "\n",
    "X = df.drop(df.filter(like='fraud_bool',axis=1).columns.to_list(), axis=1)\n",
    "y = df[\"fraud_bool\"]\n",
    "y = np.where(y > np.median(y), 1, -1)\n",
    "\n",
    "# standardise\n",
    "scaler = StandardScaler()\n",
    "X = scaler.fit_transform(X)\n",
    "\n",
    "# train test split\n",
    "X_train, X_test, y_train, y_test = train_test_split(X, y, test_size=0.2, stratify=y, random_state=20)\n",
    "\n",
    "batch_size = 500  \n",
    "minibatches = create_minibatches(X_train, y_train, batch_size)\n",
    "\n",
    "def prior_distribution(theta):\n",
    "    return stats.norm.pdf(theta, 0, 100).prod()\n",
    "\n",
    "@jit(nopython=True, fastmath=True)\n",
    "def auc_risk(theta, X, Y):\n",
    "    score = np.dot(X, theta)\n",
    "    positive_scores = score[Y == 1]\n",
    "    negative_scores = score[Y == -1]\n",
    "\n",
    "    misranked_pairs = 0\n",
    "    for i in range(len(positive_scores)):\n",
    "        for j in range(len(negative_scores)):\n",
    "            if positive_scores[i] < negative_scores[j]:\n",
    "                misranked_pairs += 1\n",
    "\n",
    "    return misranked_pairs / (len(positive_scores) * len(negative_scores))\n",
    "\n",
    "def posterior_distribution(theta, gamma, X, Y):\n",
    "    return prior_distribution(theta) * np.exp(-gamma * auc_risk(theta, X, Y))\n",
    "\n",
    "def importance_weights(particles, gamma_prev, gamma_current, X, Y, importance_annealing):\n",
    "    return np.exp(-importance_annealing * (gamma_current - gamma_prev) * np.array([auc_risk(particle, X, Y) for particle in particles]))\n",
    "\n",
    "@jit(nopython=True, fastmath=True)\n",
    "def resample(particles, weights):\n",
    "    N = len(particles)\n",
    "    positions = (np.arange(N) + np.random.random()) / N\n",
    "    indices = np.zeros(N, 'i')\n",
    "    cumulative_sum = np.cumsum(weights)\n",
    "    i, j = 0, 0\n",
    "    while i < N:\n",
    "        if positions[i] < cumulative_sum[j]:\n",
    "            indices[i] = j\n",
    "            i += 1\n",
    "        else:\n",
    "            j += 1\n",
    "    return particles[indices]\n",
    "\n",
    "def calculate_ess(weights):\n",
    "    normalized_weights = weights / np.sum(weights)\n",
    "    ess = 1.0 / np.sum(normalized_weights ** 2)\n",
    "    return ess\n",
    "\n",
    "def next_gamma(current_param, target_ess, particles, X, Y, importance_annealing, tolerance=1e-5):\n",
    "    low, high = current_param, current_param + 1  #turns out the range is important!!!\n",
    "    while high - low > tolerance:\n",
    "        mid = (low + high) / 2\n",
    "        weights = np.exp(-importance_annealing * (mid - current_param) * np.array([auc_risk(particle, X, Y) for particle in particles]))\n",
    "        ess = calculate_ess(weights)\n",
    "        if ess < target_ess:\n",
    "            high = mid\n",
    "        else:\n",
    "            low = mid\n",
    "    return (low + high) / 2\n",
    "\n",
    "def smc_sampler(N, T, target_ess_ratio, minibatches, kappas, importance_annealing, tolerance=1e-5):\n",
    "    particles = np.random.normal(loc=0, scale=100, size=(N, minibatches[0][0].shape[1]))\n",
    "    current_param = 0.0\n",
    "    target_ess = target_ess_ratio * N\n",
    "    ess_values = []\n",
    "    gammas = []\n",
    "\n",
    "    for t in range(1, T + 1):\n",
    "        # shuffle minibatches\n",
    "        np.random.shuffle(minibatches)\n",
    "        X_batch, y_batch = minibatches[0]\n",
    "\n",
    "        # find the next gamma\n",
    "        next_param = next_gamma(current_param, target_ess, particles, X_batch, y_batch, importance_annealing[t], tolerance)\n",
    "        gammas.append(next_param)\n",
    "        weights = np.exp(-importance_annealing[t] * (next_param - current_param) * np.array([auc_risk(particle, X_batch, y_batch) for particle in particles]))\n",
    "        weights /= np.sum(weights)\n",
    "        ess = calculate_ess(weights)\n",
    "        ess_values.append(ess)\n",
    "\n",
    "        # resample\n",
    "        particles = resample(particles, weights)\n",
    "        \n",
    "        #update parameter\n",
    "        current_param = next_param\n",
    "\n",
    "        # move particles\n",
    "        for i in range(N):\n",
    "            proposed_particle = particles[i] + np.random.multivariate_normal(np.zeros(X_batch.shape[1]), kappas[t] * (X_batch.shape[1] + 1) * np.diag(np.ones(X_batch.shape[1])))\n",
    "            acceptance_prob = min(1, posterior_distribution(proposed_particle, current_param, X_batch, y_batch) / posterior_distribution(particles[i], current_param, X_batch, y_batch))\n",
    "            if np.random.rand() < acceptance_prob:\n",
    "                particles[i] = proposed_particle\n",
    "    \n",
    "    return particles, ess_values, gammas\n",
    "\n",
    "# Define parameters for the SMC sampler\n",
    "T = 1000\n",
    "N = 50\n",
    "target_ess_ratio = 0.9\n",
    "importance_annealing = np.repeat(100, T + 3)\n",
    "kappas = 100 * np.arange(1, T + 3) ** (-1.)\n",
    "\n",
    "# Train\n",
    "particles, ess_values, gammas = smc_sampler(N, T, target_ess_ratio, minibatches, kappas, importance_annealing)\n",
    "\n",
    "# Print ESS values to verify\n",
    "#print(ess_values)\n"
   ]
  },
  {
   "cell_type": "code",
   "execution_count": 11,
   "metadata": {},
   "outputs": [
    {
     "data": {
      "image/png": "[encoded data removed]",
      "text/plain": [
       "<Figure size 720x360 with 1 Axes>"
      ]
     },
     "metadata": {
      "needs_background": "light"
     },
     "output_type": "display_data"
    }
   ],
   "source": [
    "# Evaluate on the test set\n",
    "auc_scores_test = []\n",
    "for particle in particles:\n",
    "    score = np.dot(X_test, particle)\n",
    "    auc = roc_auc_score(y_test, score) # if we want \"real auc\" - i.e. no auc risk - evaluation \n",
    "    #auc = auc_risk(particle, X_test, y_test)\n",
    "    auc_scores_test.append(auc)\n",
    "\n",
    "# Create a boxplot for the AUC scores on the test set\n",
    "plt.figure(figsize=(10, 5))\n",
    "plt.boxplot(auc_scores_test, vert=True, patch_artist=True)\n",
    "plt.xlabel('Over final particles')\n",
    "plt.ylabel('AUC Score')\n",
    "plt.title('AUC value on test set, Bisection search')\n",
    "plt.show()"
   ]
  },
  {
   "cell_type": "code",
   "execution_count": 12,
   "metadata": {},
   "outputs": [
    {
     "data": {
      "image/png": "[encoded data removed]",
      "text/plain": [
       "<Figure size 720x360 with 1 Axes>"
      ]
     },
     "metadata": {
      "needs_background": "light"
     },
     "output_type": "display_data"
    }
   ],
   "source": [
    "# Analyze the Results\n",
    "plt.figure(figsize=(10, 5))\n",
    "\n",
    "plt.plot(range(1, T + 1), ess_values)\n",
    "plt.title('Effective Sample Size')\n",
    "plt.xlabel('Iteration')\n",
    "plt.ylabel('ess_value')\n",
    "plt.grid(True)"
   ]
  },
  {
   "cell_type": "code",
   "execution_count": 13,
   "metadata": {},
   "outputs": [
    {
     "data": {
      "image/png": "[encoded data removed]",
      "text/plain": [
       "<Figure size 720x360 with 1 Axes>"
      ]
     },
     "metadata": {
      "needs_background": "light"
     },
     "output_type": "display_data"
    }
   ],
   "source": [
    "# Analyze the Results\n",
    "plt.figure(figsize=(10, 5))\n",
    "\n",
    "plt.plot(range(1, T + 1), gammas)\n",
    "plt.title('Scheduling gamma')\n",
    "plt.xlabel('Iteration')\n",
    "plt.ylabel('gamma(t)')\n",
    "plt.grid(True)"
   ]
  }
 ],
 "metadata": {
  "kernelspec": {
   "display_name": "Python 3",
   "language": "python",
   "name": "python3"
  },
  "language_info": {
   "codemirror_mode": {
    "name": "ipython",
    "version": 3
   },
   "file_extension": ".py",
   "mimetype": "text/x-python",
   "name": "python",
   "nbconvert_exporter": "python",
   "pygments_lexer": "ipython3",
   "version": "3.9.7"
  }
 },
 "nbformat": 4,
 "nbformat_minor": 2
}
